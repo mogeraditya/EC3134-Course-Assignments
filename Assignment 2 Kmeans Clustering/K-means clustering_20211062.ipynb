{
 "cells": [
  {
   "cell_type": "code",
   "execution_count": 9,
   "id": "3897ce32",
   "metadata": {},
   "outputs": [],
   "source": [
    "import numpy as np\n",
    "import matplotlib.pyplot as plt\n",
    "import random"
   ]
  },
  {
   "cell_type": "markdown",
   "id": "d620f9a2",
   "metadata": {},
   "source": [
    "We will first generate random clusters of data"
   ]
  },
  {
   "cell_type": "code",
   "execution_count": 52,
   "id": "c53ffdb4",
   "metadata": {},
   "outputs": [],
   "source": [
    "def generate_clusters(num_clusters=4, sigma=1, num_points_per_cluster=100):\n",
    "    \n",
    "    points_xcoord = []\n",
    "    points_ycoord = []\n",
    "    center_list=[]\n",
    "    \n",
    "    for i in range(num_clusters):\n",
    "        \n",
    "        center_x = np.random.uniform(-8*sigma, 8*sigma)\n",
    "        center_y = np.random.uniform(-8*sigma, 8*sigma)\n",
    "        \n",
    "        center_list.append((center_x, center_y))\n",
    "        \n",
    "        delta_xs = np.random.normal(0, sigma, num_points_per_cluster)\n",
    "        delta_ys = np.random.normal(0, sigma, num_points_per_cluster)\n",
    "        \n",
    "        for deltax, deltay in zip(delta_xs, delta_ys):\n",
    "            points_xcoord.append(center_x + deltax)\n",
    "            points_ycoord.append(center_y + deltay)\n",
    "            \n",
    "    \n",
    "    return center_list, points_xcoord, points_ycoord"
   ]
  },
  {
   "cell_type": "code",
   "execution_count": 53,
   "id": "e58fc76e",
   "metadata": {},
   "outputs": [
    {
     "data": {
      "image/png": "[encoded data removed]",
      "text/plain": [
       "<Figure size 432x288 with 1 Axes>"
      ]
     },
     "metadata": {
      "needs_background": "light"
     },
     "output_type": "display_data"
    }
   ],
   "source": [
    "%matplotlib inline\n",
    "\n",
    "centers, x_coords, y_coords = generate_clusters()\n",
    "\n",
    "plt.scatter(x_coords, y_coords, color='k', s=0.5)\n",
    "\n",
    "for center in centers:\n",
    "    plt.scatter(center[0], center[1])"
   ]
  },
  {
   "cell_type": "markdown",
   "metadata": {},
   "source": [
    "# Assignment 2"
   ]
  },
  {
   "cell_type": "markdown",
   "id": "df8396dd",
   "metadata": {},
   "source": [
    "# K-means algorithm\n",
    "--------------\n",
    "\n",
    "k-means is one of the most popular clustering algorithms, mainly because of its simplicity and ability\n",
    "to scale to very large datasets.\n",
    "\n",
    "k-means works on the basis of the square of the euclidean distance, and tries to minimize the\n",
    "total distance between points assigned to a cluster.\n",
    "\n",
    "The [algorithm](https://en.wikipedia.org/wiki/K-means_clustering#Algorithms) is as follows:\n",
    "\n",
    "1. Choose N, the number of expected clusters in your data.\n",
    "2. Choose N random points from your input data. These are your current centers.\n",
    "3. For each point,\n",
    "    4. Find the square of the euclidean distance of the point from the current centers.\n",
    "    4. Assign that point to the center that is closest to it.\n",
    "5. Now, every point is part of a cluster.\n",
    "6. Find the centroid of each cluster. Assign these as your current centers\n",
    "7. Repeat the above steps until the change in the cluster centers is very small (you can choose what \"small\" is)."
   ]
  },
  {
   "cell_type": "markdown",
   "id": "295754bf",
   "metadata": {},
   "source": [
    "A good skill to learn is to be able to be able to write down what functions you will need before actually writing any code. \n",
    "\n",
    "Any well-written program in python will almost look like english. To achieve this, we need to ensure all programming logic is encapsulated in functions.\n",
    "\n",
    "In this tutorial we will work on this skill. We will first just define functions using ellipsis notation."
   ]
  },
  {
   "cell_type": "code",
   "execution_count": 16,
   "id": "54090add",
   "metadata": {
    "scrolled": false
   },
   "outputs": [],
   "source": [
    "#create tuples from the x and y coordinates and add it to list of all points\n",
    "\n",
    "def generate_coord_tuple(points_xcoords, points_ycoords):\n",
    "    tupled_points=[] #array to store the points after converting to tuples\n",
    "    \n",
    "    for i in range(0, len(points_xcoords)): #wlog either len of xcoords list or ycoords list works\n",
    "        tupled_points.append((points_xcoords[i],points_ycoords[i]))\n",
    "    \n",
    "    return tupled_points\n",
    "\n",
    "\n"
   ]
  },
  {
   "cell_type": "code",
   "execution_count": 17,
   "id": "78006d2a",
   "metadata": {},
   "outputs": [],
   "source": [
    "#using coords of points to find distance between them\n",
    "def find_distance(point1, point2):\n",
    "    \n",
    "    diff_in_x= point1[0]- point2[0]   \n",
    "    diff_in_y= point1[1]- point2[1]\n",
    "    \n",
    "    distance_btw_point1_point2= np.sqrt(diff_in_x**2 + diff_in_y**2)\n",
    "    \n",
    "    return distance_btw_point1_point2\n"
   ]
  },
  {
   "cell_type": "code",
   "execution_count": 18,
   "id": "123617c5",
   "metadata": {
    "scrolled": true
   },
   "outputs": [],
   "source": [
    "#randomly pick initial centers\n",
    "#N is chosen number of clusters\n",
    "\n",
    "def choose_initial_centers(number_of_clusters, points):\n",
    "    list_of_random_centers=[] #array to store the random centers\n",
    "    \n",
    "    for i in range(0,number_of_clusters):\n",
    "        element_number = random.randrange(0,len(points))\n",
    "        list_of_random_centers.append(points[element_number])\n",
    "    \n",
    "    return list_of_random_centers\n"
   ]
  },
  {
   "cell_type": "code",
   "execution_count": 19,
   "id": "3f08d3c2",
   "metadata": {},
   "outputs": [],
   "source": [
    "def find_closest_center(number_of_clusters, points, centers):\n",
    "    \n",
    "    point_and_closest_center=[] #array to store point with the index of the center it is closest to\n",
    "    \n",
    "    for i in range (0,len(points)):\n",
    "        dist_from_centers=[] #array to store distance from centers\n",
    "        dist_from_centers_w_index=[]\n",
    "\n",
    "        for j in range (0, len(centers)):\n",
    "            \n",
    "            dist_from_centers.append(find_distance(points[i], centers[j]))\n",
    "            \n",
    "            #the distance from a center and the center index is added as a list element to the dist_from_centers_w_index list\n",
    "            \n",
    "            dist_from_centers_w_index.append([ find_distance(points[i], centers[j])  , centers[j]]) \n",
    "            \n",
    "        for j in range (0, len(centers)):\n",
    "            \n",
    "            if dist_from_centers_w_index[j][0] == np.min (dist_from_centers):\n",
    "                                      \n",
    "                point_and_closest_center.append([points[i],j])\n",
    "    \n",
    "    return point_and_closest_center #array contains point and the index of the center it belongs to\n"
   ]
  },
  {
   "cell_type": "code",
   "execution_count": 20,
   "id": "8d0b5d2b",
   "metadata": {},
   "outputs": [],
   "source": [
    "def create_new_centers(number_of_clusters, points, centers, closest_center):\n",
    "    \n",
    "    \n",
    "    new_centers=[] #array to store new centers\n",
    "    for center_index in range (0, len(centers)):\n",
    "        cluster_xcoords=[] #array to store x coords of a given cluster\n",
    "        cluster_ycoords=[] #array to store y coords of a given cluster\n",
    "        for point_index in range(0,len(closest_center)):\n",
    "            if closest_center[point_index][1] == center_index:\n",
    "                cluster_xcoords.append(closest_center[point_index][0][0])\n",
    "                cluster_ycoords.append(closest_center[point_index][0][1])\n",
    "\n",
    "        \n",
    "        new_center=(np.mean(cluster_xcoords), np.mean(cluster_ycoords))\n",
    "               \n",
    "        new_centers.append(new_center)\n",
    "    return new_centers\n",
    "                "
   ]
  },
  {
   "cell_type": "markdown",
   "id": "9f58e22d",
   "metadata": {},
   "source": [
    "Afterwards, you can code the k-means algorithm, which should do nothing but call the above functions."
   ]
  },
  {
   "cell_type": "code",
   "execution_count": 21,
   "id": "dca699e6",
   "metadata": {},
   "outputs": [],
   "source": [
    "N=4 #number of clusters\n",
    "\n",
    "all_points = generate_coord_tuple(x_coords,y_coords) #creating list of tuples of all points"
   ]
  },
  {
   "cell_type": "code",
   "execution_count": 22,
   "id": "114973e2",
   "metadata": {},
   "outputs": [],
   "source": [
    "list_of_random_centers = choose_initial_centers(N, all_points) #initial center"
   ]
  },
  {
   "cell_type": "code",
   "execution_count": 23,
   "id": "23135adf",
   "metadata": {},
   "outputs": [],
   "source": [
    "\n",
    "current_centers = list_of_random_centers #setting initial center state to random centers\n",
    "dynamic_centers =[] #list of centers over all interations to see how they dynamically move\n",
    "\n",
    "iterator=0\n",
    "\n",
    "while iterator<1000:\n",
    "    dynamic_centers.append(current_centers)\n",
    "    closest_centers= find_closest_center(N, all_points, current_centers)\n",
    "    new_centers= create_new_centers(N, all_points, centers, closest_centers)\n",
    "    current_centers= new_centers\n",
    "    iterator+=1\n"
   ]
  },
  {
   "cell_type": "code",
   "execution_count": 24,
   "id": "944062dd",
   "metadata": {},
   "outputs": [
    {
     "data": {
      "image/png": "[encoded data removed]",
      "text/plain": [
       "<Figure size 432x288 with 1 Axes>"
      ]
     },
     "metadata": {
      "needs_background": "light"
     },
     "output_type": "display_data"
    }
   ],
   "source": [
    "%matplotlib inline\n",
    "plt.scatter(x_coords, y_coords, color='k', s=0.5)\n",
    "\n",
    "for center in current_centers:\n",
    "    plt.scatter(center[0], center[1])"
   ]
  },
  {
   "cell_type": "markdown",
   "id": "43bfecbd",
   "metadata": {},
   "source": [
    "## Cases where clustering failed\n",
    "This section was for trial and error generation of graphs (error foraging). Findings are in the pdf attached."
   ]
  },
  {
   "cell_type": "code",
   "execution_count": 54,
   "id": "97acaa98",
   "metadata": {},
   "outputs": [
    {
     "data": {
      "image/png": "[encoded data removed]",
      "text/plain": [
       "<Figure size 432x288 with 1 Axes>"
      ]
     },
     "metadata": {
      "needs_background": "light"
     },
     "output_type": "display_data"
    }
   ],
   "source": [
    "%matplotlib inline\n",
    "\n",
    "N=4 #number of clusters\n",
    "all_points = generate_coord_tuple(x_coords,y_coords) #creating list of tuples of all points\n",
    "\n",
    "list_of_random_centers= choose_initial_centers(N, all_points) #initial center\n",
    "current_centers= list_of_random_centers #setting initial center state to random centers\n",
    "dynamic_centers=[] #list of centers over all interations to see how they dynamically move\n",
    "\n",
    "iterator=0\n",
    "\n",
    "while iterator<1000:\n",
    "    dynamic_centers.append(current_centers)\n",
    "    closest_centers= find_closest_center(N, all_points, current_centers)\n",
    "    new_centers= create_new_centers(N, all_points, centers, closest_centers)\n",
    "    current_centers= new_centers\n",
    "    iterator+=1\n",
    "\n",
    "plt.scatter(x_coords, y_coords, color='k', s=0.5)\n",
    "\n",
    "for center in current_centers:\n",
    "    plt.scatter(center[0], center[1])"
   ]
  },
  {
   "cell_type": "code",
   "execution_count": 55,
   "id": "718b2f42",
   "metadata": {},
   "outputs": [
    {
     "data": {
      "image/png": "[encoded data removed]",
      "text/plain": [
       "<Figure size 432x288 with 1 Axes>"
      ]
     },
     "metadata": {
      "needs_background": "light"
     },
     "output_type": "display_data"
    }
   ],
   "source": [
    "%matplotlib inline\n",
    "\n",
    "N=4 #number of clusters\n",
    "all_points = generate_coord_tuple(x_coords,y_coords) #creating list of tuples of all points\n",
    "\n",
    "list_of_random_centers= choose_initial_centers(N, all_points) #initial center\n",
    "current_centers= list_of_random_centers #setting initial center state to random centers\n",
    "dynamic_centers=[] #list of centers over all interations to see how they dynamically move\n",
    "\n",
    "iterator=0\n",
    "\n",
    "while iterator<1000:\n",
    "    dynamic_centers.append(current_centers)\n",
    "    closest_centers= find_closest_center(N, all_points, current_centers)\n",
    "    new_centers= create_new_centers(N, all_points, centers, closest_centers)\n",
    "    current_centers= new_centers\n",
    "    iterator+=1\n",
    "\n",
    "plt.scatter(x_coords, y_coords, color='k', s=0.5)\n",
    "\n",
    "for center in current_centers:\n",
    "    plt.scatter(center[0], center[1])"
   ]
  },
  {
   "cell_type": "markdown",
   "id": "c7df224e",
   "metadata": {},
   "source": [
    "# Other attempts at clustering\n",
    "I have a bunch of different approaches to clusters that I tried out because K-means clustering results were not satisfying enough. \n",
    "Some of them dont work, because they are computationally intensive and I want to discuss potential improvements to them, to make it faster."
   ]
  },
  {
   "cell_type": "code",
   "execution_count": 23,
   "id": "619172e7",
   "metadata": {},
   "outputs": [],
   "source": [
    "def find_avg_dist (all_points):\n",
    "    array_all_dist=[]\n",
    "    for i in range(0,len(all_points)):\n",
    "        for j in range(0,len(all_points)):\n",
    "            if find_distance(all_points[i],all_points[j]) > 0:\n",
    "                array_all_dist.append(find_distance(all_points[i],all_points[j]))\n",
    "    return np.mean(array_all_dist)\n",
    "\n",
    "\n",
    "def make_better_clusters( all_points ):\n",
    "    # choose a random point \n",
    "    randomizer=random.randrange(0,len(all_points))\n",
    "    initial_point= all_points[randomizer]\n",
    "\n",
    "    #set a threshold distance based on avg distance between points.\n",
    "    #if within the threshold, then it belongs to cluster of the initial point.\n",
    "    #if not within the threshold, then it nucleates a new cluster.\n",
    "    #we can either fix the number of clusters, or let it decide.\n",
    "\n",
    "    avg_dist = find_avg_dist (all_points)\n",
    "\n",
    "    points_w_clusterindex = []\n",
    "    new_cluster_initiating_points = [[initial_point,0]]\n",
    "\n",
    "    for i in range (0, len (all_points)):\n",
    "        cluster_index=0\n",
    "        #if find_distance (all_points[i], initial_point)<= avg_dist :\n",
    "        #   points_w_clusterindex.append([all_points[i],cluster_index])\n",
    "\n",
    "        #elif find_distance (all_points[i], initial_point)> avg_dist:\n",
    "        for j in range(len(new_cluster_initiating_points)):\n",
    "            if find_distance (new_cluster_initiating_points[j][0], all_points[i])<= avg_dist :\n",
    "                points_w_clusterindex.append([all_points[i],new_cluster_initiating_points[j][1]])\n",
    "            else:\n",
    "                cluster_index +=1\n",
    "                new_cluster_initiating_points.append([all_points[i],cluster_index])\n",
    "    \n",
    "    return points_w_clusterindex, new_cluster_initiating_points        \n",
    "\n",
    "#this one takes too long to run, i dont know how to improve it furthur\n",
    "\n",
    "\n",
    "    "
   ]
  },
  {
   "cell_type": "code",
   "execution_count": null,
   "id": "a94e70f9",
   "metadata": {},
   "outputs": [],
   "source": []
  },
  {
   "cell_type": "code",
   "execution_count": 33,
   "id": "d185e546",
   "metadata": {},
   "outputs": [
    {
     "name": "stdout",
     "output_type": "stream",
     "text": [
      "188\n"
     ]
    }
   ],
   "source": [
    "#the recurring problem in k means clustering seems to be the choice of initial centers\n",
    "#so maybe choosing better centers makes the clustering more effecient. \n",
    "#one way to partially fix this is by ensuring atleast some threshold amount of points around the point.\n",
    "# ill use avg distance between any two points to create the ball here and we'll make it choose initial centers from points that have atleast 75 points around them \n",
    "# assumption is that all clusters have roughly the same numbers of points in them. \n",
    "\n",
    "\n",
    "\n",
    "def find_points_around_point(points, given_point):\n",
    "    number_of_points=0\n",
    "    avg_dist = find_avg_dist (points)\n",
    "    for i in range (0,len(points)):\n",
    "        if find_distance(points[i], given_point) <= avg_dist:\n",
    "            number_of_points+=1\n",
    "    return number_of_points\n",
    "\n",
    "print (find_points_around_point(all_points,centers[0]))\n",
    "\n",
    "\n",
    "def choose_better_initial_centers(number_of_clusters, points):\n",
    "    list_of_random_centers=[]\n",
    "    \n",
    "    while True:\n",
    "        element_number = random.randrange(0,len(points))\n",
    "        if find_points_around_point(points, points[element_number]) > 75 :\n",
    "            list_of_random_centers.append(points[element_number])\n",
    "        if len(list_of_random_centers) == number_of_clusters:\n",
    "            return list_of_random_centers\n",
    "\n",
    "#this fixes the issue where stray points are chose as cluster centers\n"
   ]
  },
  {
   "cell_type": "code",
   "execution_count": null,
   "id": "76ce95d6",
   "metadata": {},
   "outputs": [],
   "source": [
    "#let's use the scoring method that is based on number of points within a 2D ball of the point."
   ]
  }
 ],
 "metadata": {
  "kernelspec": {
   "display_name": "Python 3",
   "language": "python",
   "name": "python3"
  },
  "language_info": {
   "codemirror_mode": {
    "name": "ipython",
    "version": 3
   },
   "file_extension": ".py",
   "mimetype": "text/x-python",
   "name": "python",
   "nbconvert_exporter": "python",
   "pygments_lexer": "ipython3",
   "version": "3.6.13"
  }
 },
 "nbformat": 4,
 "nbformat_minor": 5
}
